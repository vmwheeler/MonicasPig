{
 "cells": [
  {
   "cell_type": "markdown",
   "metadata": {},
   "source": [
    "Hello, Monica. This is a pig calculator for you..."
   ]
  },
  {
   "cell_type": "code",
   "execution_count": 47,
   "metadata": {},
   "outputs": [
    {
     "name": "stdout",
     "output_type": "stream",
     "text": [
      "If the pig weighed 220lb before butching and 122lb after, you should pay $3.53/lb. \n",
      "This means, you should have paid $107.8 but you paid $90.11.\n",
      "So you underpaid. You owe your nephew $17.69.\n"
     ]
    }
   ],
   "source": [
    "#only change this stuff and press shift + enter\n",
    "\n",
    "weight_h = 220 #hanging weight\n",
    "weight_b = 122 #butchered weight\n",
    "weight_m = 122/4. #weight recieved by Monica\n",
    "rate_h = 1.96 #price per pound (hanging weight)\n",
    "rate_b = weight_h/weight_b*1.96 #price per pound after butchering\n",
    "pay_orig = 90.11 # what you originally paid\n",
    "\n",
    "\n",
    "#ignore all this stuff\n",
    "\n",
    "pay_fair = weight_m*rate_b\n",
    "absdif = str(round(abs(pay_orig-pay_fair),2))\n",
    "\n",
    "print(\"If the pig weighed \" + str(weight_h) + \"lb before butching and \" \n",
    "      + str(weight_b) + \"lb after,\" + \" you should pay $\" + str(round(rate_b, 2)) + r\"/lb. \")\n",
    "print(\"This means, you should have paid $\" + str(pay_fair) \n",
    "      + \" but you paid $\" + str(pay_orig) + \".\")\n",
    "if pay_orig > pay_fair:\n",
    "    print(\"So your nephew is a slimer and owes you $\" + str(absdif) + \".\")\n",
    "elif pay_orig < pay_fair:\n",
    "    print(\"So you underpaid. You owe your nephew $\" + str(absdif) + \".\")\n",
    "else:\n",
    "    print(\"So you paid the exact right amount. Impressive.\")"
   ]
  },
  {
   "cell_type": "code",
   "execution_count": null,
   "metadata": {},
   "outputs": [],
   "source": []
  }
 ],
 "metadata": {
  "kernelspec": {
   "display_name": "Python 3",
   "language": "python",
   "name": "python3"
  },
  "language_info": {
   "codemirror_mode": {
    "name": "ipython",
    "version": 3
   },
   "file_extension": ".py",
   "mimetype": "text/x-python",
   "name": "python",
   "nbconvert_exporter": "python",
   "pygments_lexer": "ipython3",
   "version": "3.6.5"
  }
 },
 "nbformat": 4,
 "nbformat_minor": 2
}
